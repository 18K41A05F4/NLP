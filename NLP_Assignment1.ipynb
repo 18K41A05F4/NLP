{
  "nbformat": 4,
  "nbformat_minor": 0,
  "metadata": {
    "colab": {
      "name": "NLP_Assignment1.ipynb",
      "provenance": []
    },
    "kernelspec": {
      "name": "python3",
      "display_name": "Python 3"
    },
    "language_info": {
      "name": "python"
    }
  },
  "cells": [
    {
      "cell_type": "markdown",
      "metadata": {
        "id": "MCBzYTro433V"
      },
      "source": [
        "**Sentence** **Tokenizing**"
      ]
    },
    {
      "cell_type": "code",
      "metadata": {
        "id": "F2Tkcgx-2X74"
      },
      "source": [
        "from nltk.tokenize import sent_tokenize\n",
        "text=\"\"\"Are you fascinated by the amount of text data available on the internet? Are you looking for ways to work with this text data but aren’t sure where to begin? Machines, after all, recognize numbers, not the letters of our language. And that can be a tricky landscape to navigate in machine learning.\"\"\""
      ],
      "execution_count": 7,
      "outputs": []
    },
    {
      "cell_type": "code",
      "metadata": {
        "id": "Igm_nVUB211k"
      },
      "source": [
        "t=''\n",
        "t=sent_tokenize(text)"
      ],
      "execution_count": 8,
      "outputs": []
    },
    {
      "cell_type": "code",
      "metadata": {
        "colab": {
          "base_uri": "https://localhost:8080/"
        },
        "id": "DzyknD9A25We",
        "outputId": "989f7102-5fb6-4515-ce8d-e2e1fa3645a2"
      },
      "source": [
        "for x in t:\n",
        "  print(x)"
      ],
      "execution_count": 9,
      "outputs": [
        {
          "output_type": "stream",
          "name": "stdout",
          "text": [
            "Are you fascinated by the amount of text data available on the internet?\n",
            "Are you looking for ways to work with this text data but aren’t sure where to begin?\n",
            "Machines, after all, recognize numbers, not the letters of our language.\n",
            "And that can be a tricky landscape to navigate in machine learning.\n"
          ]
        }
      ]
    },
    {
      "cell_type": "markdown",
      "metadata": {
        "id": "nRGaVRql4_nV"
      },
      "source": [
        "**Word Splitting**"
      ]
    },
    {
      "cell_type": "code",
      "metadata": {
        "colab": {
          "base_uri": "https://localhost:8080/"
        },
        "id": "0FZstazt2_Z4",
        "outputId": "724d87db-9809-42bd-8933-c27428ce6216"
      },
      "source": [
        "for x in range(len(text)):\n",
        "  x=text.split()\n",
        "print(x)"
      ],
      "execution_count": 11,
      "outputs": [
        {
          "output_type": "stream",
          "name": "stdout",
          "text": [
            "['Are', 'you', 'fascinated', 'by', 'the', 'amount', 'of', 'text', 'data', 'available', 'on', 'the', 'internet?', 'Are', 'you', 'looking', 'for', 'ways', 'to', 'work', 'with', 'this', 'text', 'data', 'but', 'aren’t', 'sure', 'where', 'to', 'begin?', 'Machines,', 'after', 'all,', 'recognize', 'numbers,', 'not', 'the', 'letters', 'of', 'our', 'language.', 'And', 'that', 'can', 'be', 'a', 'tricky', 'landscape', 'to', 'navigate', 'in', 'machine', 'learning.']\n"
          ]
        }
      ]
    },
    {
      "cell_type": "markdown",
      "metadata": {
        "id": "VMilpFwh5Jk1"
      },
      "source": [
        "**Stemming**"
      ]
    },
    {
      "cell_type": "code",
      "metadata": {
        "id": "f1hWq_qR3VoS"
      },
      "source": [
        "from nltk.stem import PorterStemmer \n",
        "from nltk.tokenize import word_tokenize"
      ],
      "execution_count": 12,
      "outputs": []
    },
    {
      "cell_type": "code",
      "metadata": {
        "colab": {
          "base_uri": "https://localhost:8080/"
        },
        "id": "QpTEC8Lg3dpm",
        "outputId": "99604a8b-8514-44bc-8143-083d9ae8bba4"
      },
      "source": [
        "a=[\"cats\",\"trouble\",\"troubling\",\"troubled\",\"having\",\"Corriendo\",\"at\",\"was\"]\n",
        "b=PorterStemmer()\n",
        "for i in a:\n",
        "  print(b.stem(i))"
      ],
      "execution_count": 14,
      "outputs": [
        {
          "output_type": "stream",
          "name": "stdout",
          "text": [
            "cat\n",
            "troubl\n",
            "troubl\n",
            "troubl\n",
            "have\n",
            "corriendo\n",
            "at\n",
            "wa\n"
          ]
        }
      ]
    },
    {
      "cell_type": "markdown",
      "metadata": {
        "id": "veHcWKIo5OB2"
      },
      "source": [
        "**Lemmatization**"
      ]
    },
    {
      "cell_type": "code",
      "metadata": {
        "colab": {
          "base_uri": "https://localhost:8080/"
        },
        "id": "38mJmROK3ihG",
        "outputId": "710ed808-3d03-4d76-bc8a-213457b99a5c"
      },
      "source": [
        "from nltk.stem import WordNetLemmatizer\n",
        "c=WordNetLemmatizer()\n",
        "for i in a:\n",
        "  print(c.lemmatize(i))"
      ],
      "execution_count": 18,
      "outputs": [
        {
          "output_type": "stream",
          "name": "stdout",
          "text": [
            "cat\n",
            "trouble\n",
            "troubling\n",
            "troubled\n",
            "having\n",
            "Corriendo\n",
            "at\n",
            "wa\n"
          ]
        }
      ]
    },
    {
      "cell_type": "markdown",
      "metadata": {
        "id": "bqpG1JZP5VX4"
      },
      "source": [
        "**Finding Stopwords**"
      ]
    },
    {
      "cell_type": "code",
      "metadata": {
        "id": "EVrvzkuS4HZl"
      },
      "source": [
        "text1=\"\"\"\n",
        "“The NLTK library is one of the oldest and most commonly used Python libraries for Natural Language Processing. NLTK supports stop word removal, and you can find the list of stop words in the corpus module. To remove stop words from a sentence, you can divide your text into words and then remove the word if it exits in the list of stop words provided by NLTK.”\n",
        "\"\"\""
      ],
      "execution_count": 19,
      "outputs": []
    },
    {
      "cell_type": "code",
      "metadata": {
        "colab": {
          "base_uri": "https://localhost:8080/"
        },
        "id": "mJf1t-tk4RbF",
        "outputId": "f10017c1-0538-4c22-cbf0-7b930f6d7ed9"
      },
      "source": [
        "from nltk.corpus import stopwords\n",
        "stop_words=set(stopwords.words(\"english\"))\n",
        "words=word_tokenize(text1)\n",
        "c=[]\n",
        "for i in words:\n",
        "    if i not in stop_words:\n",
        "        c.append(i)\n",
        "print(c)"
      ],
      "execution_count": 24,
      "outputs": [
        {
          "output_type": "stream",
          "name": "stdout",
          "text": [
            "['“', 'The', 'NLTK', 'library', 'one', 'oldest', 'commonly', 'used', 'Python', 'libraries', 'Natural', 'Language', 'Processing', '.', 'NLTK', 'supports', 'stop', 'word', 'removal', ',', 'find', 'list', 'stop', 'words', 'corpus', 'module', '.', 'To', 'remove', 'stop', 'words', 'sentence', ',', 'divide', 'text', 'words', 'remove', 'word', 'exits', 'list', 'stop', 'words', 'provided', 'NLTK', '.', '”']\n"
          ]
        }
      ]
    },
    {
      "cell_type": "markdown",
      "metadata": {
        "id": "Ucila-M55b5h"
      },
      "source": [
        "**Printing Frequency of each word**"
      ]
    },
    {
      "cell_type": "code",
      "metadata": {
        "colab": {
          "base_uri": "https://localhost:8080/"
        },
        "id": "hy0HusNw4kEy",
        "outputId": "fd979f03-3351-4c0c-d4d3-d20dfdb2c5dd"
      },
      "source": [
        "from nltk.probability import FreqDist\n",
        "t1=[t for t in text1.split()]\n",
        "f1=FreqDist(t1)\n",
        "l1=[(k,v) for k, v in f1.items()]\n",
        "print(l1)"
      ],
      "execution_count": 25,
      "outputs": [
        {
          "output_type": "stream",
          "name": "stdout",
          "text": [
            "[('“The', 1), ('NLTK', 2), ('library', 1), ('is', 1), ('one', 1), ('of', 3), ('the', 5), ('oldest', 1), ('and', 3), ('most', 1), ('commonly', 1), ('used', 1), ('Python', 1), ('libraries', 1), ('for', 1), ('Natural', 1), ('Language', 1), ('Processing.', 1), ('supports', 1), ('stop', 4), ('word', 2), ('removal,', 1), ('you', 2), ('can', 2), ('find', 1), ('list', 2), ('words', 4), ('in', 2), ('corpus', 1), ('module.', 1), ('To', 1), ('remove', 2), ('from', 1), ('a', 1), ('sentence,', 1), ('divide', 1), ('your', 1), ('text', 1), ('into', 1), ('then', 1), ('if', 1), ('it', 1), ('exits', 1), ('provided', 1), ('by', 1), ('NLTK.”', 1)]\n"
          ]
        }
      ]
    }
  ]
}